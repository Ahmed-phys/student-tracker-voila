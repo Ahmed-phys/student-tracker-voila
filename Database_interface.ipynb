{
 "cells": [
  {
   "cell_type": "code",
   "execution_count": 1,
   "id": "cfe6f603",
   "metadata": {},
   "outputs": [
    {
     "data": {
      "application/vnd.jupyter.widget-view+json": {
       "model_id": "1025c4f0aa264cf381e4d4836d682e73",
       "version_major": 2,
       "version_minor": 0
      },
      "text/plain": [
       "HTML(value='<h2>📚 Upload Excel to Feed Students</h2>')"
      ]
     },
     "metadata": {},
     "output_type": "display_data"
    },
    {
     "data": {
      "application/vnd.jupyter.widget-view+json": {
       "model_id": "9a07abab8f5c44618f7ff39dbe9f59f8",
       "version_major": 2,
       "version_minor": 0
      },
      "text/plain": [
       "FileUpload(value={}, accept='.xlsx', description='Upload')"
      ]
     },
     "metadata": {},
     "output_type": "display_data"
    },
    {
     "data": {
      "application/vnd.jupyter.widget-view+json": {
       "model_id": "7d69c38289214416911366249726e546",
       "version_major": 2,
       "version_minor": 0
      },
      "text/plain": [
       "Button(button_style='success', description='Feed Students', style=ButtonStyle())"
      ]
     },
     "metadata": {},
     "output_type": "display_data"
    },
    {
     "data": {
      "application/vnd.jupyter.widget-view+json": {
       "model_id": "2d7d833a5c994ff190886acb049ad67e",
       "version_major": 2,
       "version_minor": 0
      },
      "text/plain": [
       "Output()"
      ]
     },
     "metadata": {},
     "output_type": "display_data"
    },
    {
     "data": {
      "application/vnd.jupyter.widget-view+json": {
       "model_id": "9c69ab78a1fc4713a723aaf949137725",
       "version_major": 2,
       "version_minor": 0
      },
      "text/plain": [
       "HTML(value='<h2>➕ Add a New Student</h2>')"
      ]
     },
     "metadata": {},
     "output_type": "display_data"
    },
    {
     "data": {
      "application/vnd.jupyter.widget-view+json": {
       "model_id": "670df1ed4353490d87fda7494e9a3a81",
       "version_major": 2,
       "version_minor": 0
      },
      "text/plain": [
       "Text(value='', description='Name')"
      ]
     },
     "metadata": {},
     "output_type": "display_data"
    },
    {
     "data": {
      "application/vnd.jupyter.widget-view+json": {
       "model_id": "0c96432c69664f43ad9f6cdd12841542",
       "version_major": 2,
       "version_minor": 0
      },
      "text/plain": [
       "Text(value='', description='Age')"
      ]
     },
     "metadata": {},
     "output_type": "display_data"
    },
    {
     "data": {
      "application/vnd.jupyter.widget-view+json": {
       "model_id": "6b970081c19c497c9a0af5a5a661ccfb",
       "version_major": 2,
       "version_minor": 0
      },
      "text/plain": [
       "Text(value='', description='University')"
      ]
     },
     "metadata": {},
     "output_type": "display_data"
    },
    {
     "data": {
      "application/vnd.jupyter.widget-view+json": {
       "model_id": "e3fb5ef0059c4bb397b898c3938ae2b0",
       "version_major": 2,
       "version_minor": 0
      },
      "text/plain": [
       "Text(value='', description='College')"
      ]
     },
     "metadata": {},
     "output_type": "display_data"
    },
    {
     "data": {
      "application/vnd.jupyter.widget-view+json": {
       "model_id": "9c297d06e80c4224b40622f8df54209f",
       "version_major": 2,
       "version_minor": 0
      },
      "text/plain": [
       "Text(value='', description='Department')"
      ]
     },
     "metadata": {},
     "output_type": "display_data"
    },
    {
     "data": {
      "application/vnd.jupyter.widget-view+json": {
       "model_id": "700c51994afc4371ae8bcaf6e4a015cc",
       "version_major": 2,
       "version_minor": 0
      },
      "text/plain": [
       "Text(value='', description='Year_of_study')"
      ]
     },
     "metadata": {},
     "output_type": "display_data"
    },
    {
     "data": {
      "application/vnd.jupyter.widget-view+json": {
       "model_id": "df9bb99b76a2487d881e61096301a4d5",
       "version_major": 2,
       "version_minor": 0
      },
      "text/plain": [
       "Text(value='', description='Email')"
      ]
     },
     "metadata": {},
     "output_type": "display_data"
    },
    {
     "data": {
      "application/vnd.jupyter.widget-view+json": {
       "model_id": "c53467abe7b24bc080ce2793b3f23df2",
       "version_major": 2,
       "version_minor": 0
      },
      "text/plain": [
       "Text(value='', description='Phone')"
      ]
     },
     "metadata": {},
     "output_type": "display_data"
    },
    {
     "data": {
      "application/vnd.jupyter.widget-view+json": {
       "model_id": "a96ced054e4549e09994d047c0e16264",
       "version_major": 2,
       "version_minor": 0
      },
      "text/plain": [
       "Button(button_style='primary', description='Add Student', style=ButtonStyle())"
      ]
     },
     "metadata": {},
     "output_type": "display_data"
    },
    {
     "data": {
      "application/vnd.jupyter.widget-view+json": {
       "model_id": "7c8932af01084c6f81558780d96a9686",
       "version_major": 2,
       "version_minor": 0
      },
      "text/plain": [
       "Output()"
      ]
     },
     "metadata": {},
     "output_type": "display_data"
    },
    {
     "data": {
      "application/vnd.jupyter.widget-view+json": {
       "model_id": "a7a54f4f422d45f595c05f268609b3a0",
       "version_major": 2,
       "version_minor": 0
      },
      "text/plain": [
       "HTML(value='<h2>🗑️ Remove a Student</h2>')"
      ]
     },
     "metadata": {},
     "output_type": "display_data"
    },
    {
     "data": {
      "application/vnd.jupyter.widget-view+json": {
       "model_id": "886b1f0d97f34e68afb2266f61fc24a5",
       "version_major": 2,
       "version_minor": 0
      },
      "text/plain": [
       "IntText(value=0, description='Student ID')"
      ]
     },
     "metadata": {},
     "output_type": "display_data"
    },
    {
     "data": {
      "application/vnd.jupyter.widget-view+json": {
       "model_id": "1721f7c178aa4a20a1e7a965bcc4726a",
       "version_major": 2,
       "version_minor": 0
      },
      "text/plain": [
       "Button(button_style='danger', description='Remove', style=ButtonStyle())"
      ]
     },
     "metadata": {},
     "output_type": "display_data"
    },
    {
     "data": {
      "application/vnd.jupyter.widget-view+json": {
       "model_id": "88d634dfd7cd46e29ccadcaeb0e882f9",
       "version_major": 2,
       "version_minor": 0
      },
      "text/plain": [
       "Output()"
      ]
     },
     "metadata": {},
     "output_type": "display_data"
    },
    {
     "data": {
      "application/vnd.jupyter.widget-view+json": {
       "model_id": "1c09d865446c4209bd099a0096b3b728",
       "version_major": 2,
       "version_minor": 0
      },
      "text/plain": [
       "HTML(value='<h2>✏️ Update Student Field</h2>')"
      ]
     },
     "metadata": {},
     "output_type": "display_data"
    },
    {
     "data": {
      "application/vnd.jupyter.widget-view+json": {
       "model_id": "27e349154cb04700a19330e30959a8d7",
       "version_major": 2,
       "version_minor": 0
      },
      "text/plain": [
       "IntText(value=0, description='Student ID')"
      ]
     },
     "metadata": {},
     "output_type": "display_data"
    },
    {
     "data": {
      "application/vnd.jupyter.widget-view+json": {
       "model_id": "19f2bc7d09b04b58a11bdd49ab0c1ee1",
       "version_major": 2,
       "version_minor": 0
      },
      "text/plain": [
       "Text(value='', description='Column')"
      ]
     },
     "metadata": {},
     "output_type": "display_data"
    },
    {
     "data": {
      "application/vnd.jupyter.widget-view+json": {
       "model_id": "635957e4422143f3a7e43fef67f6b9d3",
       "version_major": 2,
       "version_minor": 0
      },
      "text/plain": [
       "Text(value='', description='New Value')"
      ]
     },
     "metadata": {},
     "output_type": "display_data"
    },
    {
     "data": {
      "application/vnd.jupyter.widget-view+json": {
       "model_id": "220a05494be8496cb82d9ce3eaa8de04",
       "version_major": 2,
       "version_minor": 0
      },
      "text/plain": [
       "Button(button_style='warning', description='Update', style=ButtonStyle())"
      ]
     },
     "metadata": {},
     "output_type": "display_data"
    },
    {
     "data": {
      "application/vnd.jupyter.widget-view+json": {
       "model_id": "57c82d7ac1324993a3d33ca51f8d02f9",
       "version_major": 2,
       "version_minor": 0
      },
      "text/plain": [
       "Output()"
      ]
     },
     "metadata": {},
     "output_type": "display_data"
    },
    {
     "data": {
      "application/vnd.jupyter.widget-view+json": {
       "model_id": "8cb560d12aca44739ee1b97299696375",
       "version_major": 2,
       "version_minor": 0
      },
      "text/plain": [
       "HTML(value='<h2>⚠️ Generate Demo Progress Data</h2>')"
      ]
     },
     "metadata": {},
     "output_type": "display_data"
    },
    {
     "data": {
      "application/vnd.jupyter.widget-view+json": {
       "model_id": "4606f9c62ef04cbbb52d8f405a6a9ac1",
       "version_major": 2,
       "version_minor": 0
      },
      "text/plain": [
       "Button(button_style='danger', description='Generate Demo Data', style=ButtonStyle())"
      ]
     },
     "metadata": {},
     "output_type": "display_data"
    },
    {
     "data": {
      "application/vnd.jupyter.widget-view+json": {
       "model_id": "9e26708e90ca444badbab04203e038f4",
       "version_major": 2,
       "version_minor": 0
      },
      "text/plain": [
       "Output()"
      ]
     },
     "metadata": {},
     "output_type": "display_data"
    },
    {
     "data": {
      "application/vnd.jupyter.widget-view+json": {
       "model_id": "9812a62782084d61bf8e95e1744466e1",
       "version_major": 2,
       "version_minor": 0
      },
      "text/plain": [
       "Output()"
      ]
     },
     "metadata": {},
     "output_type": "display_data"
    },
    {
     "data": {
      "application/vnd.jupyter.widget-view+json": {
       "model_id": "960b358958154d65b06a2d8c76333814",
       "version_major": 2,
       "version_minor": 0
      },
      "text/plain": [
       "HTML(value='<h2>➕ Add Progress Row</h2>')"
      ]
     },
     "metadata": {},
     "output_type": "display_data"
    },
    {
     "data": {
      "application/vnd.jupyter.widget-view+json": {
       "model_id": "522acc1e876c46b5886f4e8195bab974",
       "version_major": 2,
       "version_minor": 0
      },
      "text/plain": [
       "IntText(value=0, description='Student ID')"
      ]
     },
     "metadata": {},
     "output_type": "display_data"
    },
    {
     "data": {
      "application/vnd.jupyter.widget-view+json": {
       "model_id": "aef2196351c84de7a0662de6bd3af328",
       "version_major": 2,
       "version_minor": 0
      },
      "text/plain": [
       "Dropdown(description='Table', options=('daily', 'weekly'), value='daily')"
      ]
     },
     "metadata": {},
     "output_type": "display_data"
    },
    {
     "data": {
      "application/vnd.jupyter.widget-view+json": {
       "model_id": "f058e22ce8ad425ca6649cd916433db1",
       "version_major": 2,
       "version_minor": 0
      },
      "text/plain": [
       "DatePicker(value=None, description='Date')"
      ]
     },
     "metadata": {},
     "output_type": "display_data"
    },
    {
     "data": {
      "application/vnd.jupyter.widget-view+json": {
       "model_id": "0e01c3bf4a434f73a393579b97ef2b5a",
       "version_major": 2,
       "version_minor": 0
      },
      "text/plain": [
       "DatePicker(value=None, description='Week Start')"
      ]
     },
     "metadata": {},
     "output_type": "display_data"
    },
    {
     "data": {
      "application/vnd.jupyter.widget-view+json": {
       "model_id": "30a615480c454708be35114d7efb9f15",
       "version_major": 2,
       "version_minor": 0
      },
      "text/plain": [
       "IntText(value=0, description='Research Done')"
      ]
     },
     "metadata": {},
     "output_type": "display_data"
    },
    {
     "data": {
      "application/vnd.jupyter.widget-view+json": {
       "model_id": "ca08f1ca73e64f5989b6500d6b89bd51",
       "version_major": 2,
       "version_minor": 0
      },
      "text/plain": [
       "IntText(value=0, description='Research Total')"
      ]
     },
     "metadata": {},
     "output_type": "display_data"
    },
    {
     "data": {
      "application/vnd.jupyter.widget-view+json": {
       "model_id": "daf8586088b84d16a2b660ba88d43c57",
       "version_major": 2,
       "version_minor": 0
      },
      "text/plain": [
       "IntText(value=0, description='English Done')"
      ]
     },
     "metadata": {},
     "output_type": "display_data"
    },
    {
     "data": {
      "application/vnd.jupyter.widget-view+json": {
       "model_id": "3d01428e3fd7471c804da7d518a8839b",
       "version_major": 2,
       "version_minor": 0
      },
      "text/plain": [
       "IntText(value=0, description='English Total')"
      ]
     },
     "metadata": {},
     "output_type": "display_data"
    },
    {
     "data": {
      "application/vnd.jupyter.widget-view+json": {
       "model_id": "1790892a4d5d41a68d6ee64eb3903aa6",
       "version_major": 2,
       "version_minor": 0
      },
      "text/plain": [
       "IntText(value=0, description='Other Done')"
      ]
     },
     "metadata": {},
     "output_type": "display_data"
    },
    {
     "data": {
      "application/vnd.jupyter.widget-view+json": {
       "model_id": "a5cb9f65d85740e8a2fb887bf8139182",
       "version_major": 2,
       "version_minor": 0
      },
      "text/plain": [
       "IntText(value=0, description='Other Total')"
      ]
     },
     "metadata": {},
     "output_type": "display_data"
    },
    {
     "data": {
      "application/vnd.jupyter.widget-view+json": {
       "model_id": "f67d64ea6e434b73a46126fa97eb0393",
       "version_major": 2,
       "version_minor": 0
      },
      "text/plain": [
       "Button(button_style='success', description='Add Row', style=ButtonStyle())"
      ]
     },
     "metadata": {},
     "output_type": "display_data"
    },
    {
     "data": {
      "application/vnd.jupyter.widget-view+json": {
       "model_id": "3f398f39c1b843d9ad95375dde21eb41",
       "version_major": 2,
       "version_minor": 0
      },
      "text/plain": [
       "Output()"
      ]
     },
     "metadata": {},
     "output_type": "display_data"
    },
    {
     "data": {
      "application/vnd.jupyter.widget-view+json": {
       "model_id": "4b3b6f3ef52342c0be5281eccb80a9d6",
       "version_major": 2,
       "version_minor": 0
      },
      "text/plain": [
       "HTML(value='<h2>🗑️ Remove Progress Row</h2>')"
      ]
     },
     "metadata": {},
     "output_type": "display_data"
    },
    {
     "data": {
      "application/vnd.jupyter.widget-view+json": {
       "model_id": "ca97ed8fdd614748b336f79d732740e2",
       "version_major": 2,
       "version_minor": 0
      },
      "text/plain": [
       "IntText(value=0, description='Student ID')"
      ]
     },
     "metadata": {},
     "output_type": "display_data"
    },
    {
     "data": {
      "application/vnd.jupyter.widget-view+json": {
       "model_id": "8c243c7bfd224d18ab2dbb8c9ddd4d27",
       "version_major": 2,
       "version_minor": 0
      },
      "text/plain": [
       "Dropdown(description='Table', options=('daily', 'weekly'), value='daily')"
      ]
     },
     "metadata": {},
     "output_type": "display_data"
    },
    {
     "data": {
      "application/vnd.jupyter.widget-view+json": {
       "model_id": "6944cf7aec7e403495a14c6b0a7f7a48",
       "version_major": 2,
       "version_minor": 0
      },
      "text/plain": [
       "IntText(value=0, description='Row ID')"
      ]
     },
     "metadata": {},
     "output_type": "display_data"
    },
    {
     "data": {
      "application/vnd.jupyter.widget-view+json": {
       "model_id": "c6fb13420047455fae855d10eeb945bd",
       "version_major": 2,
       "version_minor": 0
      },
      "text/plain": [
       "Button(button_style='danger', description='Remove Row', style=ButtonStyle())"
      ]
     },
     "metadata": {},
     "output_type": "display_data"
    },
    {
     "data": {
      "application/vnd.jupyter.widget-view+json": {
       "model_id": "ceff0d5a38754b86bb76d71efaaa6722",
       "version_major": 2,
       "version_minor": 0
      },
      "text/plain": [
       "Output()"
      ]
     },
     "metadata": {},
     "output_type": "display_data"
    },
    {
     "data": {
      "application/vnd.jupyter.widget-view+json": {
       "model_id": "74226addc3fd4641910b0afccce82490",
       "version_major": 2,
       "version_minor": 0
      },
      "text/plain": [
       "HTML(value='<h2>📅 Backfill Weekly Progress from Daily Data</h2>')"
      ]
     },
     "metadata": {},
     "output_type": "display_data"
    },
    {
     "data": {
      "application/vnd.jupyter.widget-view+json": {
       "model_id": "aa10fa9352f547ee9a089ddb79b9cf69",
       "version_major": 2,
       "version_minor": 0
      },
      "text/plain": [
       "Button(button_style='danger', description='Backfill Weekly Progress', style=ButtonStyle())"
      ]
     },
     "metadata": {},
     "output_type": "display_data"
    },
    {
     "data": {
      "application/vnd.jupyter.widget-view+json": {
       "model_id": "2334a0a68b1f42e393409e17963148f5",
       "version_major": 2,
       "version_minor": 0
      },
      "text/plain": [
       "Output()"
      ]
     },
     "metadata": {},
     "output_type": "display_data"
    },
    {
     "data": {
      "application/vnd.jupyter.widget-view+json": {
       "model_id": "999be7c3866441b9bf6c9eaaf4495fc2",
       "version_major": 2,
       "version_minor": 0
      },
      "text/plain": [
       "Output()"
      ]
     },
     "metadata": {},
     "output_type": "display_data"
    },
    {
     "data": {
      "application/vnd.jupyter.widget-view+json": {
       "model_id": "249d3283b2ab449ba312af8d8e7e917f",
       "version_major": 2,
       "version_minor": 0
      },
      "text/plain": [
       "HTML(value='<h2>✏️ Update Progress Row Column</h2>')"
      ]
     },
     "metadata": {},
     "output_type": "display_data"
    },
    {
     "data": {
      "application/vnd.jupyter.widget-view+json": {
       "model_id": "b11ae5cc52ea4b7ea27c807f6b2b0f4a",
       "version_major": 2,
       "version_minor": 0
      },
      "text/plain": [
       "IntText(value=0, description='Student ID')"
      ]
     },
     "metadata": {},
     "output_type": "display_data"
    },
    {
     "data": {
      "application/vnd.jupyter.widget-view+json": {
       "model_id": "318d9706be6b4ae28ce0f9c77cd80a9d",
       "version_major": 2,
       "version_minor": 0
      },
      "text/plain": [
       "Dropdown(description='Table', options=('daily', 'weekly'), value='daily')"
      ]
     },
     "metadata": {},
     "output_type": "display_data"
    },
    {
     "data": {
      "application/vnd.jupyter.widget-view+json": {
       "model_id": "a36b74ed1ed9442c8a62f3b56930c986",
       "version_major": 2,
       "version_minor": 0
      },
      "text/plain": [
       "IntText(value=0, description='Row ID')"
      ]
     },
     "metadata": {},
     "output_type": "display_data"
    },
    {
     "data": {
      "application/vnd.jupyter.widget-view+json": {
       "model_id": "f4318ec947bd42c1b52791a4f7d1b0fd",
       "version_major": 2,
       "version_minor": 0
      },
      "text/plain": [
       "Text(value='', description='Column')"
      ]
     },
     "metadata": {},
     "output_type": "display_data"
    },
    {
     "data": {
      "application/vnd.jupyter.widget-view+json": {
       "model_id": "e8df3d1cd1da4ff680c40028120c7e31",
       "version_major": 2,
       "version_minor": 0
      },
      "text/plain": [
       "Text(value='', description='New Value')"
      ]
     },
     "metadata": {},
     "output_type": "display_data"
    },
    {
     "data": {
      "application/vnd.jupyter.widget-view+json": {
       "model_id": "0b50d218632942a385ef0866b00af399",
       "version_major": 2,
       "version_minor": 0
      },
      "text/plain": [
       "Button(button_style='warning', description='Update Column', style=ButtonStyle())"
      ]
     },
     "metadata": {},
     "output_type": "display_data"
    },
    {
     "data": {
      "application/vnd.jupyter.widget-view+json": {
       "model_id": "a85c2b30ee6f4c6f8cc40033130704a6",
       "version_major": 2,
       "version_minor": 0
      },
      "text/plain": [
       "Output()"
      ]
     },
     "metadata": {},
     "output_type": "display_data"
    },
    {
     "data": {
      "application/vnd.jupyter.widget-view+json": {
       "model_id": "d0a2c566e950445d89fd986af27d6e84",
       "version_major": 2,
       "version_minor": 0
      },
      "text/plain": [
       "HTML(value='<h2>📊 Update Student Marks Based on Weekly Stats</h2>')"
      ]
     },
     "metadata": {},
     "output_type": "display_data"
    },
    {
     "data": {
      "application/vnd.jupyter.widget-view+json": {
       "model_id": "28969e61a5a846249289ee8f3bc517f6",
       "version_major": 2,
       "version_minor": 0
      },
      "text/plain": [
       "Button(button_style='danger', description='Update Marks', style=ButtonStyle())"
      ]
     },
     "metadata": {},
     "output_type": "display_data"
    },
    {
     "data": {
      "application/vnd.jupyter.widget-view+json": {
       "model_id": "9db061142fbe4315a00548c56620c27a",
       "version_major": 2,
       "version_minor": 0
      },
      "text/plain": [
       "Output()"
      ]
     },
     "metadata": {},
     "output_type": "display_data"
    },
    {
     "data": {
      "application/vnd.jupyter.widget-view+json": {
       "model_id": "3d720b85177b4c0fbc8d4a7f0232aafe",
       "version_major": 2,
       "version_minor": 0
      },
      "text/plain": [
       "Output()"
      ]
     },
     "metadata": {},
     "output_type": "display_data"
    },
    {
     "data": {
      "application/vnd.jupyter.widget-view+json": {
       "model_id": "def7b2258a5643879792fd8b8e3a1ba6",
       "version_major": 2,
       "version_minor": 0
      },
      "text/plain": [
       "HTML(value='<h2>🧠 Evaluate Weekly Progress & Update Membership</h2>')"
      ]
     },
     "metadata": {},
     "output_type": "display_data"
    },
    {
     "data": {
      "application/vnd.jupyter.widget-view+json": {
       "model_id": "6670208a8c744474946f6b6a344b22cd",
       "version_major": 2,
       "version_minor": 0
      },
      "text/plain": [
       "Button(button_style='danger', description='Evaluate Membership', style=ButtonStyle())"
      ]
     },
     "metadata": {},
     "output_type": "display_data"
    },
    {
     "data": {
      "application/vnd.jupyter.widget-view+json": {
       "model_id": "77e5aaacb4044329b6c7e5dbaa75a505",
       "version_major": 2,
       "version_minor": 0
      },
      "text/plain": [
       "Output()"
      ]
     },
     "metadata": {},
     "output_type": "display_data"
    },
    {
     "data": {
      "application/vnd.jupyter.widget-view+json": {
       "model_id": "5bdaf0f2e632435db0bddaaa3161300f",
       "version_major": 2,
       "version_minor": 0
      },
      "text/plain": [
       "Output()"
      ]
     },
     "metadata": {},
     "output_type": "display_data"
    },
    {
     "data": {
      "application/vnd.jupyter.widget-view+json": {
       "model_id": "ec2a86a6ee9f4971b5c11731ea2e1cb6",
       "version_major": 2,
       "version_minor": 0
      },
      "text/plain": [
       "HTML(value='<h2>📉 Validate stat_of_week & Adjust Marks</h2>')"
      ]
     },
     "metadata": {},
     "output_type": "display_data"
    },
    {
     "data": {
      "application/vnd.jupyter.widget-view+json": {
       "model_id": "9b3d1303248243dab751485394281d8f",
       "version_major": 2,
       "version_minor": 0
      },
      "text/plain": [
       "Button(button_style='danger', description='Validate & Adjust', style=ButtonStyle())"
      ]
     },
     "metadata": {},
     "output_type": "display_data"
    },
    {
     "data": {
      "application/vnd.jupyter.widget-view+json": {
       "model_id": "cffadbe68c4647c79b12d6a121e83dd6",
       "version_major": 2,
       "version_minor": 0
      },
      "text/plain": [
       "Output()"
      ]
     },
     "metadata": {},
     "output_type": "display_data"
    },
    {
     "data": {
      "application/vnd.jupyter.widget-view+json": {
       "model_id": "280765da90814cb48cb0b5a662f03c86",
       "version_major": 2,
       "version_minor": 0
      },
      "text/plain": [
       "Output()"
      ]
     },
     "metadata": {},
     "output_type": "display_data"
    },
    {
     "data": {
      "application/vnd.jupyter.widget-view+json": {
       "model_id": "2e5900a36d4d46089697b56b55a9f7a4",
       "version_major": 2,
       "version_minor": 0
      },
      "text/plain": [
       "HTML(value='<h2>📥 Add Daily Progress from Excel</h2>')"
      ]
     },
     "metadata": {},
     "output_type": "display_data"
    },
    {
     "data": {
      "application/vnd.jupyter.widget-view+json": {
       "model_id": "b44a56ea7598490bbe1f2eee30b1b482",
       "version_major": 2,
       "version_minor": 0
      },
      "text/plain": [
       "FileUpload(value={}, accept='.xlsx', description='Upload')"
      ]
     },
     "metadata": {},
     "output_type": "display_data"
    },
    {
     "data": {
      "application/vnd.jupyter.widget-view+json": {
       "model_id": "0d7f1d4b3aa94fbea94c3c413ebe1779",
       "version_major": 2,
       "version_minor": 0
      },
      "text/plain": [
       "IntText(value=0, description='Research Total')"
      ]
     },
     "metadata": {},
     "output_type": "display_data"
    },
    {
     "data": {
      "application/vnd.jupyter.widget-view+json": {
       "model_id": "b2e610a3acb54aab806ac19df898f9fc",
       "version_major": 2,
       "version_minor": 0
      },
      "text/plain": [
       "IntText(value=0, description='English Total')"
      ]
     },
     "metadata": {},
     "output_type": "display_data"
    },
    {
     "data": {
      "application/vnd.jupyter.widget-view+json": {
       "model_id": "42013ce0dc814f09a980aee92cd8f001",
       "version_major": 2,
       "version_minor": 0
      },
      "text/plain": [
       "IntText(value=0, description='Other Total')"
      ]
     },
     "metadata": {},
     "output_type": "display_data"
    },
    {
     "data": {
      "application/vnd.jupyter.widget-view+json": {
       "model_id": "7a44900797f84beaa994e3c892977075",
       "version_major": 2,
       "version_minor": 0
      },
      "text/plain": [
       "Button(button_style='success', description='Upload & Add', style=ButtonStyle())"
      ]
     },
     "metadata": {},
     "output_type": "display_data"
    },
    {
     "data": {
      "application/vnd.jupyter.widget-view+json": {
       "model_id": "0746437ad1a3443c82644b39fb64c69d",
       "version_major": 2,
       "version_minor": 0
      },
      "text/plain": [
       "Output()"
      ]
     },
     "metadata": {},
     "output_type": "display_data"
    }
   ],
   "source": [
    "\n",
    "import import_ipynb\n",
    "import streamlit as st\n",
    "import pandas as pd\n",
    "import tempfile\n",
    "from Data_base_functions_and_routiens import *\n",
    "import ipywidgets as widgets\n",
    "from IPython.display import display\n",
    "import ipywidgets as widgets\n",
    "from IPython.display import display, clear_output\n",
    "import tempfile\n",
    "from IPython.display import display, clear_output\n",
    "\n",
    "\n",
    "# --- Upload Excel and Feed Students ---\n",
    "display(widgets.HTML(\"<h2>📚 Upload Excel to Feed Students</h2>\"))\n",
    "uploader = widgets.FileUpload(accept='.xlsx', multiple=False)\n",
    "upload_button = widgets.Button(description=\"Feed Students\", button_style='success')\n",
    "upload_output = widgets.Output()\n",
    "\n",
    "def handle_upload(b):\n",
    "    with upload_output:\n",
    "        clear_output()\n",
    "        if uploader.value:\n",
    "            uploaded_file = list(uploader.value.values())[0]\n",
    "            with tempfile.NamedTemporaryFile(delete=False, suffix=\".xlsx\") as tmp_file:\n",
    "                tmp_file.write(uploaded_file['content'])\n",
    "                tmp_path = tmp_file.name\n",
    "            try:\n",
    "                feed_students(tmp_path)\n",
    "                print(\"🎉 Students added and progress tables created!\")\n",
    "            except Exception as e:\n",
    "                print(f\"❌ Error: {e}\")\n",
    "        else:\n",
    "            print(\"⚠️ Please upload a file first.\")\n",
    "\n",
    "upload_button.on_click(handle_upload)\n",
    "display(uploader, upload_button, upload_output)\n",
    "\n",
    "# --- Add Student Form ---\n",
    "display(widgets.HTML(\"<h2>➕ Add a New Student</h2>\"))\n",
    "fields = ['name', 'age', 'university', 'college', 'department', 'year_of_study', 'email', 'phone']\n",
    "inputs = {field: widgets.Text(description=field.capitalize()) for field in fields}\n",
    "add_button = widgets.Button(description=\"Add Student\", button_style='primary')\n",
    "add_output = widgets.Output()\n",
    "\n",
    "def handle_add(b):\n",
    "    with add_output:\n",
    "        clear_output()\n",
    "        student_data = {k: v.value for k, v in inputs.items()}\n",
    "        try:\n",
    "            student_data['age'] = int(student_data['age'])  # Ensure age is an integer\n",
    "            add_student(student_data)\n",
    "        except Exception as e:\n",
    "            print(f\"❌ Error: {e}\")\n",
    "\n",
    "for widget in inputs.values():\n",
    "    display(widget)\n",
    "display(add_button, add_output)\n",
    "add_button.on_click(handle_add)\n",
    "\n",
    "# --- Remove Student ---\n",
    "display(widgets.HTML(\"<h2>🗑️ Remove a Student</h2>\"))\n",
    "remove_id = widgets.IntText(description=\"Student ID\")\n",
    "remove_button = widgets.Button(description=\"Remove\", button_style='danger')\n",
    "remove_output = widgets.Output()\n",
    "\n",
    "def handle_remove(b):\n",
    "    with remove_output:\n",
    "        clear_output()\n",
    "        try:\n",
    "            remove_student(remove_id.value)\n",
    "        except Exception as e:\n",
    "            print(f\"❌ Error: {e}\")\n",
    "\n",
    "display(remove_id, remove_button, remove_output)\n",
    "remove_button.on_click(handle_remove)\n",
    "\n",
    "# --- Update Student Field ---\n",
    "display(widgets.HTML(\"<h2>✏️ Update Student Field</h2>\"))\n",
    "update_id = widgets.IntText(description=\"Student ID\")\n",
    "update_column = widgets.Text(description=\"Column\")\n",
    "update_value = widgets.Text(description=\"New Value\")\n",
    "update_button = widgets.Button(description=\"Update\", button_style='warning')\n",
    "update_output = widgets.Output()\n",
    "\n",
    "def handle_update(b):\n",
    "    with update_output:\n",
    "        clear_output()\n",
    "        try:\n",
    "            update_student_field(update_id.value, update_column.value, update_value.value)\n",
    "        except Exception as e:\n",
    "            print(f\"❌ Error: {e}\")\n",
    "\n",
    "display(update_id, update_column, update_value, update_button, update_output)\n",
    "update_button.on_click(handle_update)\n",
    "\n",
    "\n",
    "# --- Generate Demo Progress Data ---\n",
    "display(widgets.HTML(\"<h2>⚠️ Generate Demo Progress Data</h2>\"))\n",
    "\n",
    "generate_button = widgets.Button(description=\"Generate Demo Data\", button_style='danger')\n",
    "confirm_button = widgets.Button(description=\"Yes, Proceed\", button_style='warning')\n",
    "cancel_button = widgets.Button(description=\"Cancel\", button_style='info')\n",
    "warning_output = widgets.Output()\n",
    "confirm_output = widgets.Output()\n",
    "\n",
    "def show_warning(b):\n",
    "    with warning_output:\n",
    "        clear_output()\n",
    "        print(\"⚠️ This will insert 50 days of random progress data for ALL students.\")\n",
    "        print(\"Are you sure you want to continue?\")\n",
    "        display(confirm_button, cancel_button)\n",
    "\n",
    "def confirm_generation(b):\n",
    "    with confirm_output:\n",
    "        clear_output()\n",
    "        try:\n",
    "            generate_demo_progress_data()\n",
    "        except Exception as e:\n",
    "            print(f\"❌ Error: {e}\")\n",
    "\n",
    "def cancel_generation(b):\n",
    "    with warning_output:\n",
    "        clear_output()\n",
    "        print(\"❎ Operation cancelled.\")\n",
    "\n",
    "generate_button.on_click(show_warning)\n",
    "confirm_button.on_click(confirm_generation)\n",
    "cancel_button.on_click(cancel_generation)\n",
    "\n",
    "display(generate_button, warning_output, confirm_output)\n",
    "\n",
    "\n",
    "# --- Add Progress Row ---\n",
    "display(widgets.HTML(\"<h2>➕ Add Progress Row</h2>\"))\n",
    "\n",
    "add_progress_student_id = widgets.IntText(description=\"Student ID\")\n",
    "add_progress_table_type = widgets.Dropdown(options=['daily', 'weekly'], description=\"Table\")\n",
    "add_progress_date = widgets.DatePicker(description=\"Date\")\n",
    "add_progress_week_start = widgets.DatePicker(description=\"Week Start\")\n",
    "\n",
    "# Task inputs\n",
    "r_done = widgets.IntText(description=\"Research Done\")\n",
    "r_total = widgets.IntText(description=\"Research Total\")\n",
    "e_done = widgets.IntText(description=\"English Done\")\n",
    "e_total = widgets.IntText(description=\"English Total\")\n",
    "o_done = widgets.IntText(description=\"Other Done\")\n",
    "o_total = widgets.IntText(description=\"Other Total\")\n",
    "\n",
    "add_progress_button = widgets.Button(description=\"Add Row\", button_style='success')\n",
    "add_progress_output = widgets.Output()\n",
    "\n",
    "def handle_add_progress(b):\n",
    "    with add_progress_output:\n",
    "        clear_output()\n",
    "        try:\n",
    "            table_type = add_progress_table_type.value\n",
    "            data = {\n",
    "                'research_tasks_done': r_done.value,\n",
    "                'research_tasks_total': r_total.value,\n",
    "                'english_tasks_done': e_done.value,\n",
    "                'english_tasks_total': e_total.value,\n",
    "                'other_tasks_done': o_done.value,\n",
    "                'other_tasks_total': o_total.value,\n",
    "            }\n",
    "\n",
    "            if table_type == 'daily':\n",
    "                data['date'] = add_progress_date.value\n",
    "            else:\n",
    "                data['week_start'] = add_progress_week_start.value\n",
    "\n",
    "            add_progress_row(add_progress_student_id.value, table_type, data)\n",
    "        except Exception as e:\n",
    "            print(f\"❌ Error: {e}\")\n",
    "\n",
    "display(add_progress_student_id, add_progress_table_type, add_progress_date, add_progress_week_start,\n",
    "        r_done, r_total, e_done, e_total, o_done, o_total,\n",
    "        add_progress_button, add_progress_output)\n",
    "\n",
    "add_progress_button.on_click(handle_add_progress)\n",
    "\n",
    "# --- Remove Progress Row ---\n",
    "display(widgets.HTML(\"<h2>🗑️ Remove Progress Row</h2>\"))\n",
    "\n",
    "remove_progress_student_id = widgets.IntText(description=\"Student ID\")\n",
    "remove_progress_table_type = widgets.Dropdown(options=['daily', 'weekly'], description=\"Table\")\n",
    "remove_progress_row_id = widgets.IntText(description=\"Row ID\")\n",
    "\n",
    "remove_progress_button = widgets.Button(description=\"Remove Row\", button_style='danger')\n",
    "remove_progress_output = widgets.Output()\n",
    "\n",
    "def handle_remove_progress(b):\n",
    "    with remove_progress_output:\n",
    "        clear_output()\n",
    "        try:\n",
    "            remove_progress_row(remove_progress_student_id.value, remove_progress_table_type.value, remove_progress_row_id.value)\n",
    "        except Exception as e:\n",
    "            print(f\"❌ Error: {e}\")\n",
    "\n",
    "display(remove_progress_student_id, remove_progress_table_type, remove_progress_row_id,\n",
    "        remove_progress_button, remove_progress_output)\n",
    "\n",
    "remove_progress_button.on_click(handle_remove_progress)\n",
    "\n",
    "\n",
    "# --- Backfill Weekly Progress ---\n",
    "display(widgets.HTML(\"<h2>📅 Backfill Weekly Progress from Daily Data</h2>\"))\n",
    "\n",
    "backfill_button = widgets.Button(description=\"Backfill Weekly Progress\", button_style='danger')\n",
    "backfill_confirm_button = widgets.Button(description=\"Yes, Proceed\", button_style='warning')\n",
    "backfill_cancel_button = widgets.Button(description=\"Cancel\", button_style='info')\n",
    "backfill_warning_output = widgets.Output()\n",
    "backfill_result_output = widgets.Output()\n",
    "\n",
    "def show_backfill_warning(b):\n",
    "    with backfill_warning_output:\n",
    "        clear_output()\n",
    "        print(\"⚠️ This will analyze all daily progress entries and generate weekly summaries.\")\n",
    "        print(\"Are you sure you want to continue?\")\n",
    "        display(backfill_confirm_button, backfill_cancel_button)\n",
    "\n",
    "def confirm_backfill(b):\n",
    "    with backfill_result_output:\n",
    "        clear_output()\n",
    "        try:\n",
    "            backfill_weekly_progress()\n",
    "        except Exception as e:\n",
    "            print(f\"❌ Error: {e}\")\n",
    "\n",
    "def cancel_backfill(b):\n",
    "    with backfill_warning_output:\n",
    "        clear_output()\n",
    "        print(\"❎ Operation cancelled.\")\n",
    "\n",
    "backfill_button.on_click(show_backfill_warning)\n",
    "backfill_confirm_button.on_click(confirm_backfill)\n",
    "backfill_cancel_button.on_click(cancel_backfill)\n",
    "\n",
    "display(backfill_button, backfill_warning_output, backfill_result_output)\n",
    "\n",
    "\n",
    "\n",
    "\n",
    "# --- Update Progress Column ---\n",
    "display(widgets.HTML(\"<h2>✏️ Update Progress Row Column</h2>\"))\n",
    "\n",
    "update_prog_student_id = widgets.IntText(description=\"Student ID\")\n",
    "update_prog_table_type = widgets.Dropdown(options=['daily', 'weekly'], description=\"Table\")\n",
    "update_prog_row_id = widgets.IntText(description=\"Row ID\")\n",
    "update_prog_column = widgets.Text(description=\"Column\")\n",
    "update_prog_value = widgets.Text(description=\"New Value\")\n",
    "\n",
    "update_prog_button = widgets.Button(description=\"Update Column\", button_style='warning')\n",
    "update_prog_output = widgets.Output()\n",
    "\n",
    "def handle_update_progress_column(b):\n",
    "    with update_prog_output:\n",
    "        clear_output()\n",
    "        try:\n",
    "            update_progress_column(\n",
    "                update_prog_student_id.value,\n",
    "                update_prog_table_type.value,\n",
    "                update_prog_row_id.value,\n",
    "                update_prog_column.value,\n",
    "                update_prog_value.value\n",
    "            )\n",
    "        except Exception as e:\n",
    "            print(f\"❌ Error: {e}\")\n",
    "\n",
    "display(update_prog_student_id, update_prog_table_type, update_prog_row_id,\n",
    "        update_prog_column, update_prog_value, update_prog_button, update_prog_output)\n",
    "\n",
    "update_prog_button.on_click(handle_update_progress_column)\n",
    "\n",
    "# --- Count stat_of_week = 0 and Update Marks ---\n",
    "display(widgets.HTML(\"<h2>📊 Update Student Marks Based on Weekly Stats</h2>\"))\n",
    "\n",
    "update_marks_button = widgets.Button(description=\"Update Marks\", button_style='danger')\n",
    "update_marks_confirm_button = widgets.Button(description=\"Yes, Proceed\", button_style='warning')\n",
    "update_marks_cancel_button = widgets.Button(description=\"Cancel\", button_style='info')\n",
    "update_marks_warning_output = widgets.Output()\n",
    "update_marks_result_output = widgets.Output()\n",
    "\n",
    "def show_update_marks_warning(b):\n",
    "    with update_marks_warning_output:\n",
    "        clear_output()\n",
    "        print(\"⚠️ This will count how many weeks each student had stat_of_week = 0 and update their marks.\")\n",
    "        print(\"Are you sure you want to continue?\")\n",
    "        display(update_marks_confirm_button, update_marks_cancel_button)\n",
    "\n",
    "def confirm_update_marks(b):\n",
    "    with update_marks_result_output:\n",
    "        clear_output()\n",
    "        try:\n",
    "            count_weekly_stat_of_week_zero_and_update_marks()\n",
    "        except Exception as e:\n",
    "            print(f\"❌ Error: {e}\")\n",
    "\n",
    "def cancel_update_marks(b):\n",
    "    with update_marks_warning_output:\n",
    "        clear_output()\n",
    "        print(\"❎ Operation cancelled.\")\n",
    "\n",
    "update_marks_button.on_click(show_update_marks_warning)\n",
    "update_marks_confirm_button.on_click(confirm_update_marks)\n",
    "update_marks_cancel_button.on_click(cancel_update_marks)\n",
    "\n",
    "display(update_marks_button, update_marks_warning_output, update_marks_result_output)\n",
    "\n",
    "\n",
    "\n",
    "\n",
    "# --- Evaluate Weekly Progress and Update Membership ---\n",
    "display(widgets.HTML(\"<h2>🧠 Evaluate Weekly Progress & Update Membership</h2>\"))\n",
    "\n",
    "eval_membership_button = widgets.Button(description=\"Evaluate Membership\", button_style='danger')\n",
    "eval_membership_confirm = widgets.Button(description=\"Yes, Proceed\", button_style='warning')\n",
    "eval_membership_cancel = widgets.Button(description=\"Cancel\", button_style='info')\n",
    "eval_membership_warning = widgets.Output()\n",
    "eval_membership_result = widgets.Output()\n",
    "\n",
    "def show_eval_membership_warning(b):\n",
    "    with eval_membership_warning:\n",
    "        clear_output()\n",
    "        print(\"⚠️ This will evaluate weekly progress and may set member_state = 0 for underperforming students.\")\n",
    "        print(\"Are you sure you want to continue?\")\n",
    "        display(eval_membership_confirm, eval_membership_cancel)\n",
    "\n",
    "def confirm_eval_membership(b):\n",
    "    with eval_membership_result:\n",
    "        clear_output()\n",
    "        try:\n",
    "            evaluate_weekly_progress_and_update_membership()\n",
    "        except Exception as e:\n",
    "            print(f\"❌ Error: {e}\")\n",
    "\n",
    "def cancel_eval_membership(b):\n",
    "    with eval_membership_warning:\n",
    "        clear_output()\n",
    "        print(\"❎ Operation cancelled.\")\n",
    "\n",
    "eval_membership_button.on_click(show_eval_membership_warning)\n",
    "eval_membership_confirm.on_click(confirm_eval_membership)\n",
    "eval_membership_cancel.on_click(cancel_eval_membership)\n",
    "\n",
    "display(eval_membership_button, eval_membership_warning, eval_membership_result)\n",
    "\n",
    "# --- Validate stat_of_week and Adjust Marks ---\n",
    "display(widgets.HTML(\"<h2>📉 Validate stat_of_week & Adjust Marks</h2>\"))\n",
    "\n",
    "validate_marks_button = widgets.Button(description=\"Validate & Adjust\", button_style='danger')\n",
    "validate_marks_confirm = widgets.Button(description=\"Yes, Proceed\", button_style='warning')\n",
    "validate_marks_cancel = widgets.Button(description=\"Cancel\", button_style='info')\n",
    "validate_marks_warning = widgets.Output()\n",
    "validate_marks_result = widgets.Output()\n",
    "\n",
    "def show_validate_marks_warning(b):\n",
    "    with validate_marks_warning:\n",
    "        clear_output()\n",
    "        print(\"⚠️ This will flip stat_of_week = 0 to 1 if followed by two 1s, and reduce marks accordingly.\")\n",
    "        print(\"Are you sure you want to continue?\")\n",
    "        display(validate_marks_confirm, validate_marks_cancel)\n",
    "\n",
    "def confirm_validate_marks(b):\n",
    "    with validate_marks_result:\n",
    "        clear_output()\n",
    "        try:\n",
    "            validate_stat_of_week_and_adjust_marks()\n",
    "        except Exception as e:\n",
    "            print(f\"❌ Error: {e}\")\n",
    "\n",
    "def cancel_validate_marks(b):\n",
    "    with validate_marks_warning:\n",
    "        clear_output()\n",
    "        print(\"❎ Operation cancelled.\")\n",
    "\n",
    "validate_marks_button.on_click(show_validate_marks_warning)\n",
    "validate_marks_confirm.on_click(confirm_validate_marks)\n",
    "validate_marks_cancel.on_click(cancel_validate_marks)\n",
    "\n",
    "display(validate_marks_button, validate_marks_warning, validate_marks_result)\n",
    "\n",
    "# --- Add Daily Progress from Excel ---\n",
    "display(widgets.HTML(\"<h2>📥 Add Daily Progress from Excel</h2>\"))\n",
    "\n",
    "daily_excel_upload = widgets.FileUpload(accept='.xlsx', multiple=False)\n",
    "research_total_input = widgets.IntText(description=\"Research Total\")\n",
    "english_total_input = widgets.IntText(description=\"English Total\")\n",
    "other_total_input = widgets.IntText(description=\"Other Total\")\n",
    "daily_upload_button = widgets.Button(description=\"Upload & Add\", button_style='success')\n",
    "daily_upload_output = widgets.Output()\n",
    "\n",
    "def handle_daily_excel_upload(b):\n",
    "    with daily_upload_output:\n",
    "        clear_output()\n",
    "        if daily_excel_upload.value:\n",
    "            uploaded_file = list(daily_excel_upload.value.values())[0]\n",
    "            with tempfile.NamedTemporaryFile(delete=False, suffix=\".xlsx\") as tmp_file:\n",
    "                tmp_file.write(uploaded_file['content'])\n",
    "                tmp_path = tmp_file.name\n",
    "            try:\n",
    "                add_daily_progress_from_excel(\n",
    "                    tmp_path,\n",
    "                    research_total_input.value,\n",
    "                    english_total_input.value,\n",
    "                    other_total_input.value\n",
    "                )\n",
    "            except Exception as e:\n",
    "                print(f\"❌ Error: {e}\")\n",
    "        else:\n",
    "            print(\"⚠️ Please upload a file first.\")\n",
    "\n",
    "daily_upload_button.on_click(handle_daily_excel_upload)\n",
    "\n",
    "display(daily_excel_upload, research_total_input, english_total_input, other_total_input,\n",
    "        daily_upload_button, daily_upload_output)\n",
    "\n"
   ]
  }
 ],
 "metadata": {
  "kernelspec": {
   "display_name": "comp_phys3d",
   "language": "python",
   "name": "python3"
  },
  "language_info": {
   "codemirror_mode": {
    "name": "ipython",
    "version": 3
   },
   "file_extension": ".py",
   "mimetype": "text/x-python",
   "name": "python",
   "nbconvert_exporter": "python",
   "pygments_lexer": "ipython3",
   "version": "3.12.10"
  }
 },
 "nbformat": 4,
 "nbformat_minor": 5
}
